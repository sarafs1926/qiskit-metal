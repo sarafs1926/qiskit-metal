{
 "cells": [
  {
   "cell_type": "markdown",
   "metadata": {},
   "source": [
    "# Sweeps - Eigenmode matrix"
   ]
  },
  {
   "cell_type": "markdown",
   "metadata": {},
   "source": [
    "### Prerequisite\n",
    "You need to have a working local installation of Ansys"
   ]
  },
  {
   "cell_type": "markdown",
   "metadata": {},
   "source": [
    "## 1. Perform the necessary imports and create a QDesign in Metal first."
   ]
  },
  {
   "cell_type": "code",
   "execution_count": 1,
   "metadata": {},
   "outputs": [],
   "source": [
    "%load_ext autoreload\n",
    "%autoreload 2"
   ]
  },
  {
   "cell_type": "code",
   "execution_count": 2,
   "metadata": {},
   "outputs": [],
   "source": [
    "import qiskit_metal as metal\n",
    "from qiskit_metal import designs, draw\n",
    "from qiskit_metal import MetalGUI, Dict, Headings\n",
    "from qiskit_metal.analyses.sweep_options.sweeping import Sweeping"
   ]
  },
  {
   "cell_type": "code",
   "execution_count": 3,
   "metadata": {},
   "outputs": [],
   "source": [
    "# Create the design in Metal\n",
    "# Create a design by specifying the chip size and open Metal GUI.\n",
    "\n",
    "design = designs.DesignPlanar({}, True)\n",
    "design.chips.main.size['size_x'] = '2mm'\n",
    "design.chips.main.size['size_y'] = '2mm'\n",
    "\n",
    "gui = MetalGUI(design)\n",
    "\n",
    "from qiskit_metal.qlibrary.qubits.transmon_pocket import TransmonPocket\n",
    "from qiskit_metal.qlibrary.terminations.open_to_ground import OpenToGround\n",
    "from qiskit_metal.qlibrary.tlines.meandered import RouteMeander"
   ]
  },
  {
   "cell_type": "markdown",
   "metadata": {},
   "source": [
    "### In this example, the design consists of 1 qubit and 1 CPW connected to OpenToGround."
   ]
  },
  {
   "cell_type": "code",
   "execution_count": 4,
   "metadata": {},
   "outputs": [],
   "source": [
    "# Allow running the same cell here multiple times to overwrite changes\n",
    "design.overwrite_enabled = True\n",
    "\n",
    "# Remove all qcomponents from GUI.\n",
    "design.delete_all_components()\n",
    "\n",
    "# So as to demonstrate the quality factor outputs easily, the\n",
    "#subtrate material type is being changed to FR4_epoxy from the\n",
    "#default of silicon\n",
    "design.chips.main.material = 'FR4_epoxy'\n",
    "\n",
    "q1 = TransmonPocket(\n",
    "    design,\n",
    "    'Q1',\n",
    "    options=dict(pad_width='425 um',\n",
    "                 pocket_height='650um',\n",
    "                 connection_pads=dict(\n",
    "                     readout=dict(loc_W=+1, loc_H=+1, pad_width='200um'))))\n",
    "otg = OpenToGround(design,\n",
    "                   'open_to_ground',\n",
    "                   options=dict(pos_x='1.75mm', pos_y='0um', orientation='0'))\n",
    "readout = RouteMeander(\n",
    "    design, 'readout',\n",
    "    Dict(\n",
    "        total_length='6 mm',\n",
    "        hfss_wire_bonds = True,\n",
    "        fillet='90 um',\n",
    "        lead=dict(start_straight='100um'),\n",
    "        pin_inputs=Dict(start_pin=Dict(component='Q1', pin='readout'),\n",
    "                        end_pin=Dict(component='open_to_ground', pin='open')),\n",
    "    ))\n",
    "\n",
    "gui.rebuild()\n",
    "gui.autoscale()"
   ]
  },
  {
   "cell_type": "markdown",
   "metadata": {},
   "source": [
    "## 2. Must open Ansys HFSS at this point.\n",
    "### Registration occurs automatically within the method \"sweep_one_option_get_eigenmode_solution_data\". \n",
    "\n",
    "### Must have an open Ansys project and HFSS eigenmode design before executing render_design. Can do it manually or automate it.\n",
    "\n",
    "Manually: To create a new Ansys project, click \"New\", the leftmost icon right below the file menu. \n",
    "\n",
    "Automate: Use the cells below to open the Ansys application.  The method sweep_one_option_get_eigenmode_solution_data will connect to ansys, activate a HFSS design, and add a setup."
   ]
  },
  {
   "cell_type": "code",
   "execution_count": 5,
   "metadata": {},
   "outputs": [],
   "source": [
    "# This cell will open the Ansys application.  Run this cell, if Ansys, is not already open.\n",
    "# A project will be opened using this command.\n",
    "hfss = design.renderers.hfss\n",
    "#hfss.open_ansys()"
   ]
  },
  {
   "cell_type": "code",
   "execution_count": 6,
   "metadata": {},
   "outputs": [],
   "source": [
    "### for render_design()\n",
    "# Render every QComponent in QDesign.\n",
    "render_qcomps = []\n",
    "\n",
    "# Identify which kind of pins in Ansys. \n",
    "# Follow details from renderer in\n",
    "# QHFSSRenderer.render_design.\n",
    "# No pins are open, so don't need to utilize ender_endcaps.\n",
    "render_endcaps = []\n",
    "\n",
    "#List of tuples of jj's that shouldn't be rendered.  \n",
    "#Follow details from renderer in QHFSSRenderer.render_design.\n",
    "render_ignored_jjs = [('Q1','rect_jj')]\n",
    "\n",
    "# Either calculate a bounding box based on the location of \n",
    "# rendered geometries or use chip size from design class.\n",
    "render_box_plus_buffer = True\n",
    "\n",
    "\n",
    "\n",
    "sweep = Sweeping(design)"
   ]
  },
  {
   "cell_type": "code",
   "execution_count": 7,
   "metadata": {},
   "outputs": [],
   "source": [
    "# Pass a dict with arguments to be used add Setup to project.\n",
    "# If you don't pass all the arguments, the default is determined by \n",
    "# QHFSSRenderer's default_options.\n",
    "\n",
    "# The name of setup will be \"Sweep_em_setup\".  \n",
    "# If a setup named \"Sweep_em_setup\" exists in the project, it will be deleted, \n",
    "# and a new setup will be added with the arguments from setup_args.\n",
    "em_setup_args = Dict(min_freq_ghz=None,\n",
    "                  n_modes=None,\n",
    "                  max_delta_f=None,\n",
    "                  max_passes=None,\n",
    "                  min_passes=None,\n",
    "                  min_converged=None,\n",
    "                  pct_refinement=None,\n",
    "                  basis_order=None)\n",
    "\n",
    "# Example of updating the keys that we are interested in. \n",
    "em_setup_args = Dict(min_freq_ghz=5,\n",
    "                  n_modes=2,\n",
    "                  max_passes=9,)"
   ]
  },
  {
   "cell_type": "markdown",
   "metadata": {},
   "source": [
    "## 3 Metal pass information to Ansys, and gets a solution matrix.\n",
    "### - Connect to Ansys HFSS, eigenmode solution.\n",
    "### - Rebuild QComponents in Metal.\n",
    "### - Render QComponents within HFSS and setup.\n",
    "### - Delete/Clear the HFSS between each calculation of solution matrix.\n",
    "### - Calculate solution matrix for each value in option_sweep.\n",
    "\n",
    "#### Return a dict and return code.  If the return code is zero, there were no errors detected.  \n",
    "#### The dict has:  key = each value used to sweep, value = Dict with frequency, kappa_over_2pis, and quality_factor.\n",
    "\n",
    "#### This could take minutes based size of design."
   ]
  },
  {
   "cell_type": "code",
   "execution_count": 8,
   "metadata": {},
   "outputs": [
    {
     "name": "stderr",
     "output_type": "stream",
     "text": [
      "INFO 12:55PM [connect_project]: Connecting to Ansys Desktop API...\n",
      "INFO 12:55PM [load_ansys_project]: \tOpened Ansys App\n",
      "INFO 12:55PM [load_ansys_project]: \tOpened Ansys Desktop v2020.1.0\n",
      "INFO 12:55PM [load_ansys_project]: \tOpened Ansys Project\n",
      "\tFolder:    C:/Users/Quantum/Documents/Ansoft/\n",
      "\tProject:   Project55\n",
      "INFO 12:55PM [connect_design]: \tOpened active design\n",
      "\tDesign:    HFSSMetalDrivenModal [Solution type: DrivenModal]\n",
      "INFO 12:55PM [get_setup]: \tOpened setup `Setup`  (<class 'pyEPR.ansys.HfssDMSetup'>)\n",
      "INFO 12:55PM [connect]: \tConnected to project \"Project55\" and design \"HFSSMetalDrivenModal\" 😀 \n",
      "\n",
      "12:55PM 14s WARNING [activate_eigenmode_design]: The name=GetEigenModeSolution was not in active project.  A new design will be inserted to the project.  Names in active project are: \n",
      "['HFSSMetalEigenmode', 'HFSSMetalDrivenModal'].  \n",
      "INFO 12:55PM [connect_design]: \tOpened active design\n",
      "\tDesign:    GetEigenModeSolution [Solution type: Eigenmode]\n",
      "WARNING 12:55PM [connect_setup]: \tNo design setup detected.\n",
      "WARNING 12:55PM [connect_setup]: \tCreating eigenmode default setup.\n",
      "INFO 12:55PM [get_setup]: \tOpened setup `Setup`  (<class 'pyEPR.ansys.HfssEMSetup'>)\n",
      "INFO 12:55PM [get_setup]: \tOpened setup `Sweep_em_setup`  (<class 'pyEPR.ansys.HfssEMSetup'>)\n",
      "INFO 12:55PM [get_setup]: \tOpened setup `Sweep_em_setup`  (<class 'pyEPR.ansys.HfssEMSetup'>)\n",
      "INFO 12:55PM [analyze]: Analyzing setup Sweep_em_setup\n",
      "12:56PM 27s INFO [hfss_report_f_convergence]: Saved convergences to C:\\Users\\Quantum\\Documents\\GitHub\\qiskit-metal-sara\\tutorials\\4 Analysis\\C. Parametric sweeps\\hfss_eig_f_convergence.csv\n",
      "12:56PM 27s WARNING [sweep_one_option_get_eigenmode_solution_data]: Heads-Up: total_length=5.8mm Failed to converge.  \n",
      "INFO 12:56PM [get_setup]: \tOpened setup `Sweep_em_setup`  (<class 'pyEPR.ansys.HfssEMSetup'>)\n",
      "INFO 12:56PM [analyze]: Analyzing setup Sweep_em_setup\n",
      "12:58PM 03s INFO [hfss_report_f_convergence]: Saved convergences to C:\\Users\\Quantum\\Documents\\GitHub\\qiskit-metal-sara\\tutorials\\4 Analysis\\C. Parametric sweeps\\hfss_eig_f_convergence.csv\n",
      "12:58PM 03s WARNING [sweep_one_option_get_eigenmode_solution_data]: Heads-Up: total_length=6mm Failed to converge.  \n",
      "INFO 12:58PM [get_setup]: \tOpened setup `Sweep_em_setup`  (<class 'pyEPR.ansys.HfssEMSetup'>)\n",
      "INFO 12:58PM [analyze]: Analyzing setup Sweep_em_setup\n",
      "12:58PM 47s INFO [hfss_report_f_convergence]: Saved convergences to C:\\Users\\Quantum\\Documents\\GitHub\\qiskit-metal-sara\\tutorials\\4 Analysis\\C. Parametric sweeps\\hfss_eig_f_convergence.csv\n"
     ]
    },
    {
     "name": "stdout",
     "output_type": "stream",
     "text": [
      "Warning! 6 COM references still alive\n",
      "Ansys will likely refuse to shut down\n"
     ]
    }
   ],
   "source": [
    "#The argument \"leave_last_design\" is true by default.  \n",
    "\n",
    "#Note: The method will connect to Ansys, activate_eigenmode_design(), add_eigenmode_setup().\n",
    "\n",
    "all_sweeps, return_code = sweep.sweep_one_option_get_eigenmode_solution_data(\n",
    "    readout.name,\n",
    "    'total_length', \n",
    "    ['5.8mm', '6mm', '6.2mm'],\n",
    "    render_qcomps,\n",
    "    render_endcaps,\n",
    "    render_ignored_jjs,\n",
    "    box_plus_buffer_render=render_box_plus_buffer,\n",
    "    design_name=\"GetEigenModeSolution\",\n",
    "    setup_args=em_setup_args)\n"
   ]
  },
  {
   "cell_type": "code",
   "execution_count": 11,
   "metadata": {},
   "outputs": [
    {
     "name": "stdout",
     "output_type": "stream",
     "text": [
      "dict_keys(['5.8mm', '6mm', '6.2mm']) \n",
      "\n",
      "\n",
      "key=5.8mm\n",
      "option_name['5.8mm']['option_name']=total_length\n",
      "convergence: False\n",
      "frequency:\n",
      "[14.3019231032, 28.1190177607]\n",
      "kappa_over_2pis:\n",
      "[0.226199468448, 0.443867921088]\n",
      "quality_factor:\n",
      "[63.22704116560648, 63.34996611554004]\n",
      "convergence_t:\n",
      "\n",
      "             Solved Elements  Max Delta Freq. %\n",
      "Pass Number                                    \n",
      "1                       6537                NaN\n",
      "2                       8506            12.1370\n",
      "3                       8743             1.6485\n",
      "4                       9246             2.9209\n",
      "5                      10411             3.1871\n",
      "6                      12130             3.9313\n",
      "7                      13808             3.6833\n",
      "8                      16895             2.8968\n",
      "9                      20968             3.2596\n",
      "convergence_eig_f:\n",
      "\n",
      "         re(Mode(1)) [g]  re(Mode(2)) [g]\n",
      "Pass []                                  \n",
      "1              12.405063        24.483870\n",
      "2              13.910684        25.606978\n",
      "3              13.681367        25.969749\n",
      "4              13.281745        25.234954\n",
      "5              12.858443        24.695997\n",
      "6              13.363947        25.524624\n",
      "7              13.634092        26.464765\n",
      "8              13.940203        27.231386\n",
      "9              14.301923        28.119018\n",
      "\n",
      "key=6mm\n",
      "option_name['6mm']['option_name']=total_length\n",
      "convergence: False\n",
      "frequency:\n",
      "[14.258964667, 28.3011886798]\n",
      "kappa_over_2pis:\n",
      "[0.2284469468, 0.451132092344]\n",
      "quality_factor:\n",
      "[62.4169631800043, 62.73370739987082]\n",
      "convergence_t:\n",
      "\n",
      "             Solved Elements  Max Delta Freq. %\n",
      "Pass Number                                    \n",
      "1                       6793                NaN\n",
      "2                       8828            8.63720\n",
      "3                      10163            1.01570\n",
      "4                      11146            1.28220\n",
      "5                      13434            2.59520\n",
      "6                      16622            1.42250\n",
      "7                      21143            1.61940\n",
      "8                      26976            1.84180\n",
      "9                      34784            0.83786\n",
      "convergence_eig_f:\n",
      "\n",
      "         re(Mode(1)) [g]  re(Mode(2)) [g]\n",
      "Pass []                                  \n",
      "1              12.617696        23.611302\n",
      "2              13.649582        25.650663\n",
      "3              13.747478        25.911197\n",
      "4              13.571204        26.117796\n",
      "5              13.784677        26.795593\n",
      "6              13.883982        27.176751\n",
      "7              13.962572        27.616864\n",
      "8              14.219732        28.066035\n",
      "9              14.258965        28.301189\n",
      "\n",
      "key=6.2mm\n",
      "option_name['6.2mm']['option_name']=total_length\n",
      "convergence: True\n",
      "frequency:\n",
      "[12.742487597, 25.7363892551]\n",
      "kappa_over_2pis:\n",
      "[0.1998786990934, 0.402860089968]\n",
      "quality_factor:\n",
      "[63.75110331814621, 63.88418683306231]\n",
      "convergence_t:\n",
      "\n",
      "             Solved Elements  Max Delta Freq. %\n",
      "Pass Number                                    \n",
      "1                       6875                NaN\n",
      "2                       8943          12.803000\n",
      "3                      10285           3.333100\n",
      "4                      11511           1.666900\n",
      "5                      12882           0.055739\n",
      "convergence_eig_f:\n",
      "\n",
      "         re(Mode(1)) [g]  re(Mode(2)) [g]\n",
      "Pass []                                  \n",
      "1              11.405496        23.324574\n",
      "2              12.434571        26.310716\n",
      "3              12.537771        25.433754\n",
      "4              12.746762        25.722052\n",
      "5              12.742488        25.736389\n",
      "6                    NaN              NaN\n",
      "7                    NaN              NaN\n",
      "8                    NaN              NaN\n",
      "9                    NaN              NaN\n"
     ]
    }
   ],
   "source": [
    "if return_code ==0:\n",
    "    print(f'{all_sweeps.keys()} \\n')\n",
    "    for key in all_sweeps.keys():\n",
    "        print(f'\\nkey={key}')\n",
    "        option_name = all_sweeps[key]['option_name']\n",
    "        print(f'option_name[\\'{key}\\'][\\'option_name\\']={option_name}')\n",
    "        did_converge = all_sweeps[key]['convergence']\n",
    "        print(f'convergence: {did_converge}')\n",
    "        print('frequency:')\n",
    "        print(all_sweeps[key]['frequency'])\n",
    "        print('kappa_over_2pis:')\n",
    "        print(all_sweeps[key]['kappa_over_2pis'])\n",
    "        print('quality_factor:')\n",
    "        print(all_sweeps[key]['quality_factor'])\n",
    "        print('convergence_t:\\n')\n",
    "        print(all_sweeps[key]['convergence_t'])\n",
    "        print('convergence_eig_f:\\n')\n",
    "        print(all_sweeps[key]['convergence_eig_f'])\n",
    "     "
   ]
  },
  {
   "cell_type": "code",
   "execution_count": 12,
   "metadata": {},
   "outputs": [
    {
     "data": {
      "text/plain": [
       "{'convergence': False,\n",
       " 'option_name': 'total_length',\n",
       " 'frequency': [14.258964667, 28.3011886798],\n",
       " 'kappa_over_2pis': [0.2284469468, 0.451132092344],\n",
       " 'quality_factor': [62.4169631800043, 62.73370739987082],\n",
       " 'convergence_eig_f':          re(Mode(1)) [g]  re(Mode(2)) [g]\n",
       " Pass []                                  \n",
       " 1              12.617696        23.611302\n",
       " 2              13.649582        25.650663\n",
       " 3              13.747478        25.911197\n",
       " 4              13.571204        26.117796\n",
       " 5              13.784677        26.795593\n",
       " 6              13.883982        27.176751\n",
       " 7              13.962572        27.616864\n",
       " 8              14.219732        28.066035\n",
       " 9              14.258965        28.301189,\n",
       " 'convergence_t':              Solved Elements  Max Delta Freq. %\n",
       " Pass Number                                    \n",
       " 1                       6793                NaN\n",
       " 2                       8828            8.63720\n",
       " 3                      10163            1.01570\n",
       " 4                      11146            1.28220\n",
       " 5                      13434            2.59520\n",
       " 6                      16622            1.42250\n",
       " 7                      21143            1.61940\n",
       " 8                      26976            1.84180\n",
       " 9                      34784            0.83786}"
      ]
     },
     "execution_count": 12,
     "metadata": {},
     "output_type": "execute_result"
    }
   ],
   "source": [
    "# For example, just one group of solution data.\n",
    "all_sweeps['6mm']"
   ]
  },
  {
   "cell_type": "code",
   "execution_count": null,
   "metadata": {},
   "outputs": [],
   "source": [
    "# In HFSS, after the last sweep, should the design be cleared?  The argument \"leave_last_design\" is true by default. \n",
    "# If you want to delete after last sweep, change argument to false.\n",
    "\n",
    "leave_last_design = False\n",
    "\n",
    "all_sweeps, return_code = sweep.sweep_one_option_get_eigenmode_solution_data(\n",
    "                                q1.name,\n",
    "                                'connection_pads.readout.pad_width', \n",
    "                                ['100um', '110um', '120um'],\n",
    "                                render_qcomps,\n",
    "                                render_endcaps,\n",
    "                                render_ignored_jjs,\n",
    "                                box_plus_buffer_render=render_box_plus_buffer,\n",
    "                                design_name=\"GetEigenModeSolution\",\n",
    "                                leave_last_design=leave_last_design,\n",
    "                                setup_args=em_setup_args)"
   ]
  },
  {
   "cell_type": "code",
   "execution_count": null,
   "metadata": {},
   "outputs": [],
   "source": [
    "# Uncomment next line if you would like to close the gui\n",
    "# gui.main_window.close()"
   ]
  }
 ],
 "metadata": {
  "kernelspec": {
   "display_name": "Python 3",
   "language": "python",
   "name": "python3"
  },
  "language_info": {
   "codemirror_mode": {
    "name": "ipython",
    "version": 3
   },
   "file_extension": ".py",
   "mimetype": "text/x-python",
   "name": "python",
   "nbconvert_exporter": "python",
   "pygments_lexer": "ipython3",
   "version": "3.8.8"
  }
 },
 "nbformat": 4,
 "nbformat_minor": 4
}
